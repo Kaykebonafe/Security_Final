{
 "cells": [
  {
   "cell_type": "code",
   "execution_count": 171,
   "id": "832a0086-4ce2-4fec-b2e1-f47c494b4981",
   "metadata": {},
   "outputs": [],
   "source": [
    "import pandas as pd \n",
    "import numpy as np \n",
    "from tqdm import tqdm\n",
    "import re\n",
    "\n",
    "import warnings\n",
    "warnings.filterwarnings(\"ignore\")\n",
    "\n",
    "MAX_KEY_SIZE = 26"
   ]
  },
  {
   "cell_type": "code",
   "execution_count": 172,
   "id": "4ea5c2f0-18fb-4752-b3b1-fdcf1169d17c",
   "metadata": {},
   "outputs": [],
   "source": [
    "def load_dataset(dataset_path):\n",
    "    np_dataset = np.genfromtxt(dataset_path, dtype=str)\n",
    "    np_password = np.ndarray(len(np_dataset), dtype=\"object\")\n",
    "    np_user = np.ndarray(len(np_dataset), dtype=\"object\")\n",
    "    return np_dataset, np_password, np_user"
   ]
  },
  {
   "cell_type": "code",
   "execution_count": 173,
   "id": "e0a72bc5-b8fc-4555-9444-0128641dd160",
   "metadata": {},
   "outputs": [],
   "source": [
    "def format_dataset(dataset: np.ndarray):\n",
    "    pattern = \"\\|(.*?)\\|\"\n",
    "    for i in tqdm(range(dataset.shape[0])):\n",
    "        np_password[i] = re.search(pattern, np_dataset[i][1:]).group(1)\n",
    "        np_user[i] = np_dataset[i].replace(np_password[i], \"\").replace(\".\", \" \").replace(\"|\", \"\")"
   ]
  },
  {
   "cell_type": "code",
   "execution_count": 174,
   "id": "ea341102-ade6-4a94-ab14-6bc4cdd0a51c",
   "metadata": {},
   "outputs": [],
   "source": [
    "def getMode():\n",
    "    while 1:\n",
    "        print('Do you want to encrypt or decrypt your database?')\n",
    "        mode = input().lower()\n",
    "        if mode in 'encrypt e decrypt d'.split():\n",
    "            return mode\n",
    "        else:\n",
    "            print('You can type encrypt, e, decrypt or d only')"
   ]
  },
  {
   "cell_type": "code",
   "execution_count": 175,
   "id": "0aacef82-a382-44d1-a198-ae7b927e6b04",
   "metadata": {},
   "outputs": [],
   "source": [
    "def getData():\n",
    "    key = ''\n",
    "    while 1:\n",
    "        print('Do you want to encrypt/decrypt only the password or the entire base?')\n",
    "        data = input().lower()\n",
    "        if data in 'password p entire base base b'.split():\n",
    "            return data\n",
    "        else:\n",
    "            print('You can type password, p, entire, base or b only')"
   ]
  },
  {
   "cell_type": "code",
   "execution_count": 176,
   "id": "f8c7e113-2b32-4773-a425-3fc45e68c886",
   "metadata": {},
   "outputs": [],
   "source": [
    "def getKey():\n",
    "    key = 0\n",
    "    while True:\n",
    "        print('Type a number between 1 and %s' % (MAX_KEY_SIZE))\n",
    "        key = int(input())\n",
    "        if (key >= 1 and key <= MAX_KEY_SIZE):\n",
    "            return key\n"
   ]
  },
  {
   "cell_type": "code",
   "execution_count": 177,
   "id": "4f2e3dea-4f6a-49eb-bc5a-b80dff73d654",
   "metadata": {},
   "outputs": [],
   "source": [
    "def getTranslatedMessage(mode, message, key):\n",
    "    if mode[0] == 'd':\n",
    "        key = -key\n",
    "    translated = ''\n",
    "\n",
    "    for symbol in message:\n",
    "        if symbol.isalpha():\n",
    "            num = ord(symbol)\n",
    "            num += key\n",
    "\n",
    "            if symbol.isupper():\n",
    "                if num > ord('Z'):\n",
    "                    num -= 26\n",
    "                elif num < ord('A'):\n",
    "                    num += 26\n",
    "            elif symbol.islower():\n",
    "                if num > ord('z'):\n",
    "                    num -= 26\n",
    "                elif num < ord('a'):\n",
    "                    num += 26\n",
    "\n",
    "            translated += chr(num)\n",
    "        else:\n",
    "            translated += symbol\n",
    "    return translated"
   ]
  },
  {
   "cell_type": "code",
   "execution_count": 178,
   "id": "b938399d",
   "metadata": {
    "scrolled": true
   },
   "outputs": [
    {
     "name": "stdout",
     "output_type": "stream",
     "text": [
      "Do you want to validate an user or encrypt your dataset? Please, type validate to validate an user or encrypt to encrypt you datasetvalidate\n",
      "Please, type the password and the key you'd used to encrypt your database (for no encrypted database type 0)OOGJRNIN 9\n"
     ]
    },
    {
     "name": "stderr",
     "output_type": "stream",
     "text": [
      "100%|██████████████████████████████████████████████████████████████████████| 300000/300000 [00:01<00:00, 258866.11it/s]"
     ]
    },
    {
     "name": "stdout",
     "output_type": "stream",
     "text": [
      "\n",
      "\n",
      "User validated\n"
     ]
    },
    {
     "name": "stderr",
     "output_type": "stream",
     "text": [
      "\n"
     ]
    }
   ],
   "source": [
    "crypt_or_auth = str(input(\"Do you want to validate an user or encrypt your dataset? Please, type validate to validate an user or encrypt to encrypt you dataset\"))\n",
    "\n",
    "if(crypt_or_auth == \"validate\"):\n",
    "    user = str(input(\"Please, type the password and the key you'd used to encrypt your database (for no encrypted database type 0)\")).split()\n",
    "    pswrd = user[0]\n",
    "    key = user[1]\n",
    "    \n",
    "    if key == '0':\n",
    "        np_dataset, np_password, np_user = load_dataset(r'Datasets\\base.txt')\n",
    "        format_dataset(np_dataset)\n",
    "        for i in tqdm(range(len(np_password))):\n",
    "            if np_password[i] == pswrd:\n",
    "                print(\"\\n\")\n",
    "                print(\"User validated\")\n",
    "    \n",
    "    else:\n",
    "        pdst = pd.read_csv(r'Datasets\\pandas.txt', header=None)\n",
    "        pdst.columns = ['User', 'Password']\n",
    "        pswrd = getTranslatedMessage('encrypt', pswrd, int(user[1]))\n",
    "        for i in tqdm(range(pdst['Password'].shape[0])):\n",
    "            if pdst['Password'][i] == pswrd:\n",
    "                print(\"\\n\")\n",
    "                print(\"User validated\")\n",
    "\n",
    "else:\n",
    "    opt = str(input(\"Please, type base to select the uncrypted dataset or encrypted to select the encrypted dataset: \"))\n",
    "    if(opt == \"base\"):\n",
    "        np_dataset, np_password, np_user = load_dataset(r'Datasets\\base.txt')\n",
    "        format_dataset(np_dataset)\n",
    "    else:\n",
    "        np_dataset, np_password, np_user = load_dataset(r'Datasets\\pandas.txt')\n",
    "        format_dataset(np_dataset)\n",
    "        \n",
    "    mode = getMode()\n",
    "    data = getData()\n",
    "    key = getKey()\n",
    "\n",
    "    mode_crypt = ''    \n",
    "    for i in tqdm(range(np_dataset.shape[0])):\n",
    "        if data in 'password p'.split():\n",
    "            mode_crypt = 'Password'\n",
    "            np_password[i] = getTranslatedMessage(mode, np_password[i], key)\n",
    "        else:\n",
    "            np_user[i] = getTranslatedMessage(mode, np_user[i], key)\n",
    "            np_password[i] = getTranslatedMessage(mode, np_password[i], key)"
   ]
  },
  {
   "cell_type": "code",
   "execution_count": 168,
   "id": "d42d0108-0d93-4de4-9092-504d435563c9",
   "metadata": {},
   "outputs": [],
   "source": [
    "df = pd.DataFrame(np_user)"
   ]
  },
  {
   "cell_type": "code",
   "execution_count": 169,
   "id": "23d76461-bc69-4d30-95d5-08871c142b5f",
   "metadata": {},
   "outputs": [],
   "source": [
    "df.columns = ['User']\n",
    "df['Password'] = np_password"
   ]
  },
  {
   "cell_type": "code",
   "execution_count": 170,
   "id": "84fc5e8e-81c6-4557-aa2b-6545a8916bb6",
   "metadata": {},
   "outputs": [],
   "source": [
    "df.to_csv(r'Datasets\\pandas.txt', header=None, index=None, sep=',', mode='w')"
   ]
  }
 ],
 "metadata": {
  "kernelspec": {
   "display_name": "Python 3",
   "language": "python",
   "name": "python3"
  },
  "language_info": {
   "codemirror_mode": {
    "name": "ipython",
    "version": 3
   },
   "file_extension": ".py",
   "mimetype": "text/x-python",
   "name": "python",
   "nbconvert_exporter": "python",
   "pygments_lexer": "ipython3",
   "version": "3.9.5"
  }
 },
 "nbformat": 4,
 "nbformat_minor": 5
}
